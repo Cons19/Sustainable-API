{
 "cells": [
  {
   "cell_type": "code",
   "execution_count": 1,
   "id": "ed35e4d9",
   "metadata": {},
   "outputs": [
    {
     "name": "stdout",
     "output_type": "stream",
     "text": [
      "Payload size: 115 bytes\n"
     ]
    }
   ],
   "source": [
    "##### Measured payload size for POST request on Express framework with Employees payload\n",
    "import re\n",
    "\n",
    "with open('/Users/constantin/Documents/University/Master-Thesis/Sustainable-API/bash/trace/tracePOSTExpressEmployees.txt', 'r') as file:\n",
    "    file_contents = file.read()\n",
    "    payload_match = re.search(r'=> Send data, (\\d+) bytes', file_contents)\n",
    "    if payload_match:\n",
    "        payload_size = int(payload_match.group(1))\n",
    "        print(f\"Payload size: {payload_size} bytes\")\n",
    "    else:\n",
    "        print(\"Payload size not found in the trace file. Please check the file contents.\")\n"
   ]
  },
  {
   "cell_type": "code",
   "execution_count": 2,
   "id": "e346df9d",
   "metadata": {},
   "outputs": [
    {
     "name": "stdout",
     "output_type": "stream",
     "text": [
      "Payload size: 30 bytes\n"
     ]
    }
   ],
   "source": [
    "##### Measured payload size for POST request on Express framework with Departments payload\n",
    "import re\n",
    "\n",
    "with open('/Users/constantin/Documents/University/Master-Thesis/Sustainable-API/bash/trace/tracePOSTExpressDepartments.txt', 'r') as file:\n",
    "    file_contents = file.read()\n",
    "    payload_match = re.search(r'=> Send data, (\\d+) bytes', file_contents)\n",
    "    if payload_match:\n",
    "        payload_size = int(payload_match.group(1))\n",
    "        print(f\"Payload size: {payload_size} bytes\")\n",
    "    else:\n",
    "        print(\"Payload size not found in the trace file. Please check the file contents.\")\n"
   ]
  },
  {
   "cell_type": "code",
   "execution_count": 3,
   "id": "1fcc12fc",
   "metadata": {},
   "outputs": [
    {
     "name": "stdout",
     "output_type": "stream",
     "text": [
      "Payload size: 1560 bytes\n"
     ]
    }
   ],
   "source": [
    "##### Measured payload size for GET request on Express framework with Employees payload\n",
    "import re\n",
    "\n",
    "with open('/Users/constantin/Documents/University/Master-Thesis/Sustainable-API/bash/trace/traceGET10ExpressEmployees.txt', 'r') as file:\n",
    "    file_contents = file.read()\n",
    "    payload_match = re.search(r'<= Recv data, (\\d+) bytes', file_contents)\n",
    "    if payload_match:\n",
    "        payload_size = int(payload_match.group(1))\n",
    "        print(f\"Payload size: {payload_size} bytes\")\n",
    "    else:\n",
    "        print(\"Payload size not found in the trace file. Please check the file contents.\")\n"
   ]
  },
  {
   "cell_type": "code",
   "execution_count": 13,
   "id": "d2dd21bc",
   "metadata": {},
   "outputs": [
    {
     "name": "stdout",
     "output_type": "stream",
     "text": [
      "Payload size: 451 bytes\n"
     ]
    }
   ],
   "source": [
    "##### Measured payload size for GET request on Express framework with Departments payload\n",
    "import re\n",
    "\n",
    "with open('/Users/constantin/Documents/University/Master-Thesis/Sustainable-API/bash/trace/traceGETExpressDepartments.txt', 'r') as file:\n",
    "    file_contents = file.read()\n",
    "    payload_match = re.search(r'<= Recv data, (\\d+) bytes', file_contents)\n",
    "    if payload_match:\n",
    "        payload_size = int(payload_match.group(1))\n",
    "        print(f\"Payload size: {payload_size} bytes\")\n",
    "    else:\n",
    "        print(\"Payload size not found in the trace file. Please check the file contents.\")\n"
   ]
  },
  {
   "cell_type": "code",
   "execution_count": 5,
   "id": "78afbd92",
   "metadata": {},
   "outputs": [
    {
     "name": "stdout",
     "output_type": "stream",
     "text": [
      "Payload size: 1540 bytes\n"
     ]
    }
   ],
   "source": [
    "##### Measured payload size for GET request on Nest framework with Employees payload\n",
    "import re\n",
    "\n",
    "with open('/Users/constantin/Documents/University/Master-Thesis/Sustainable-API/bash/trace/traceGET10NestEmployees.txt', 'r') as file:\n",
    "    file_contents = file.read()\n",
    "    payload_match = re.search(r'<= Recv data, (\\d+) bytes', file_contents)\n",
    "    if payload_match:\n",
    "        payload_size = int(payload_match.group(1))\n",
    "        print(f\"Payload size: {payload_size} bytes\")\n",
    "    else:\n",
    "        print(\"Payload size not found in the trace file. Please check the file contents.\")"
   ]
  },
  {
   "cell_type": "code",
   "execution_count": 6,
   "id": "a5331d97",
   "metadata": {},
   "outputs": [
    {
     "name": "stdout",
     "output_type": "stream",
     "text": [
      "Payload size: 406 bytes\n"
     ]
    }
   ],
   "source": [
    "##### Measured payload size for GET request on Nest framework with Departments payload\n",
    "import re\n",
    "\n",
    "with open('/Users/constantin/Documents/University/Master-Thesis/Sustainable-API/bash/trace/traceGETNestDepartments.txt', 'r') as file:\n",
    "    file_contents = file.read()\n",
    "    payload_match = re.search(r'<= Recv data, (\\d+) bytes', file_contents)\n",
    "    if payload_match:\n",
    "        payload_size = int(payload_match.group(1))\n",
    "        print(f\"Payload size: {payload_size} bytes\")\n",
    "    else:\n",
    "        print(\"Payload size not found in the trace file. Please check the file contents.\")"
   ]
  },
  {
   "cell_type": "code",
   "execution_count": 8,
   "id": "e7005e6e",
   "metadata": {},
   "outputs": [
    {
     "name": "stdout",
     "output_type": "stream",
     "text": [
      "Payload size: 1560 bytes\n"
     ]
    }
   ],
   "source": [
    "##### Measured payload size for GET request on Fastify framework with Employees payload\n",
    "import re\n",
    "\n",
    "with open('/Users/constantin/Documents/University/Master-Thesis/Sustainable-API/bash/trace/traceGET10FastifyEmployees.txt', 'r') as file:\n",
    "    file_contents = file.read()\n",
    "    payload_match = re.search(r'<= Recv data, (\\d+) bytes', file_contents)\n",
    "    if payload_match:\n",
    "        payload_size = int(payload_match.group(1))\n",
    "        print(f\"Payload size: {payload_size} bytes\")\n",
    "    else:\n",
    "        print(\"Payload size not found in the trace file. Please check the file contents.\")"
   ]
  },
  {
   "cell_type": "code",
   "execution_count": 9,
   "id": "f7513ad9",
   "metadata": {},
   "outputs": [
    {
     "name": "stdout",
     "output_type": "stream",
     "text": [
      "Payload size: 406 bytes\n"
     ]
    }
   ],
   "source": [
    "##### Measured payload size for GET request on Fastify framework with Departments payload\n",
    "import re\n",
    "\n",
    "with open('/Users/constantin/Documents/University/Master-Thesis/Sustainable-API/bash/trace/traceGETFastifyDepartments.txt', 'r') as file:\n",
    "    file_contents = file.read()\n",
    "    payload_match = re.search(r'<= Recv data, (\\d+) bytes', file_contents)\n",
    "    if payload_match:\n",
    "        payload_size = int(payload_match.group(1))\n",
    "        print(f\"Payload size: {payload_size} bytes\")\n",
    "    else:\n",
    "        print(\"Payload size not found in the trace file. Please check the file contents.\")"
   ]
  },
  {
   "cell_type": "code",
   "execution_count": 10,
   "id": "5ad33017",
   "metadata": {},
   "outputs": [
    {
     "name": "stdout",
     "output_type": "stream",
     "text": [
      "Payload size: 1560 bytes\n"
     ]
    }
   ],
   "source": [
    "##### Measured payload size for GET request on Koa framework with Employees payload\n",
    "import re\n",
    "\n",
    "with open('/Users/constantin/Documents/University/Master-Thesis/Sustainable-API/bash/trace/traceGET10KoaEmployees.txt', 'r') as file:\n",
    "    file_contents = file.read()\n",
    "    payload_match = re.search(r'<= Recv data, (\\d+) bytes', file_contents)\n",
    "    if payload_match:\n",
    "        payload_size = int(payload_match.group(1))\n",
    "        print(f\"Payload size: {payload_size} bytes\")\n",
    "    else:\n",
    "        print(\"Payload size not found in the trace file. Please check the file contents.\")"
   ]
  },
  {
   "cell_type": "code",
   "execution_count": 11,
   "id": "da71e1e5",
   "metadata": {},
   "outputs": [
    {
     "name": "stdout",
     "output_type": "stream",
     "text": [
      "Payload size: 406 bytes\n"
     ]
    }
   ],
   "source": [
    "##### Measured payload size for GET request on Koa framework with Departments payload\n",
    "import re\n",
    "\n",
    "with open('/Users/constantin/Documents/University/Master-Thesis/Sustainable-API/bash/trace/traceGETKoaDepartments.txt', 'r') as file:\n",
    "    file_contents = file.read()\n",
    "    payload_match = re.search(r'<= Recv data, (\\d+) bytes', file_contents)\n",
    "    if payload_match:\n",
    "        payload_size = int(payload_match.group(1))\n",
    "        print(f\"Payload size: {payload_size} bytes\")\n",
    "    else:\n",
    "        print(\"Payload size not found in the trace file. Please check the file contents.\")"
   ]
  },
  {
   "cell_type": "code",
   "execution_count": 19,
   "id": "16d9f195",
   "metadata": {
    "scrolled": true
   },
   "outputs": [
    {
     "name": "stdout",
     "output_type": "stream",
     "text": [
      "1\n",
      "Payload size: 1560 bytes\n",
      "2\n",
      "Payload size: 1560 bytes\n",
      "3\n",
      "Payload size: 1560 bytes\n",
      "4\n",
      "Payload size: 1560 bytes\n",
      "5\n",
      "Payload size: 1560 bytes\n",
      "6\n",
      "Payload size: 1560 bytes\n",
      "7\n",
      "Payload size: 1560 bytes\n",
      "8\n",
      "Payload size: 1560 bytes\n",
      "9\n",
      "Payload size: 1560 bytes\n",
      "10\n",
      "Payload size: 1560 bytes\n",
      "11\n",
      "Payload size: 1560 bytes\n",
      "12\n",
      "Payload size: 1560 bytes\n",
      "13\n",
      "Payload size: 1560 bytes\n",
      "14\n",
      "Payload size: 1560 bytes\n",
      "15\n",
      "Payload size: 1560 bytes\n",
      "16\n",
      "Payload size: 1560 bytes\n",
      "17\n",
      "Payload size: 1560 bytes\n",
      "18\n",
      "Payload size: 1560 bytes\n",
      "19\n",
      "Payload size: 1560 bytes\n",
      "20\n",
      "Payload size: 1560 bytes\n",
      "21\n",
      "Payload size: 1560 bytes\n",
      "22\n",
      "Payload size: 1560 bytes\n",
      "23\n",
      "Payload size: 1560 bytes\n",
      "24\n",
      "Payload size: 1560 bytes\n",
      "25\n",
      "Payload size: 1560 bytes\n",
      "26\n",
      "Payload size: 1560 bytes\n",
      "27\n",
      "Payload size: 1560 bytes\n",
      "28\n",
      "Payload size: 1560 bytes\n",
      "29\n",
      "Payload size: 1560 bytes\n",
      "30\n",
      "Payload size: 1560 bytes\n"
     ]
    }
   ],
   "source": [
    "##### Measured payload size for 30 GET requests on Express framework with Employees payload\n",
    "import re\n",
    "\n",
    "for i in range(1, 31):\n",
    "    print(i)\n",
    "    with open('/Users/constantin/Documents/University/Master-Thesis/Sustainable-API/bash/trace/express/employees/traceGET10ExpressEmployees' + str(i) + '.txt', 'r') as file:\n",
    "        file_contents = file.read()\n",
    "        payload_match = re.search(r'<= Recv data, (\\d+) bytes', file_contents)\n",
    "        if payload_match:\n",
    "            payload_size = int(payload_match.group(1))\n",
    "            print(f\"Payload size: {payload_size} bytes\")\n",
    "        else:\n",
    "            print(\"Payload size not found in the trace file. Please check the file contents.\")\n"
   ]
  },
  {
   "cell_type": "code",
   "execution_count": 21,
   "id": "6c97c3f2",
   "metadata": {},
   "outputs": [
    {
     "name": "stdout",
     "output_type": "stream",
     "text": [
      "1\n",
      "Payload size: 406 bytes\n",
      "2\n",
      "Payload size: 406 bytes\n",
      "3\n",
      "Payload size: 406 bytes\n",
      "4\n",
      "Payload size: 406 bytes\n",
      "5\n",
      "Payload size: 406 bytes\n",
      "6\n",
      "Payload size: 406 bytes\n",
      "7\n",
      "Payload size: 406 bytes\n",
      "8\n",
      "Payload size: 406 bytes\n",
      "9\n",
      "Payload size: 406 bytes\n",
      "10\n",
      "Payload size: 406 bytes\n",
      "11\n",
      "Payload size: 406 bytes\n",
      "12\n",
      "Payload size: 406 bytes\n",
      "13\n",
      "Payload size: 406 bytes\n",
      "14\n",
      "Payload size: 406 bytes\n",
      "15\n",
      "Payload size: 406 bytes\n",
      "16\n",
      "Payload size: 406 bytes\n",
      "17\n",
      "Payload size: 406 bytes\n",
      "18\n",
      "Payload size: 406 bytes\n",
      "19\n",
      "Payload size: 406 bytes\n",
      "20\n",
      "Payload size: 406 bytes\n",
      "21\n",
      "Payload size: 406 bytes\n",
      "22\n",
      "Payload size: 406 bytes\n",
      "23\n",
      "Payload size: 406 bytes\n",
      "24\n",
      "Payload size: 406 bytes\n",
      "25\n",
      "Payload size: 406 bytes\n",
      "26\n",
      "Payload size: 406 bytes\n",
      "27\n",
      "Payload size: 406 bytes\n",
      "28\n",
      "Payload size: 406 bytes\n",
      "29\n",
      "Payload size: 406 bytes\n",
      "30\n",
      "Payload size: 406 bytes\n"
     ]
    }
   ],
   "source": [
    "##### Measured payload size for 30 GET requests on Express framework with Departments payload\n",
    "import re\n",
    "\n",
    "for i in range(1, 31):\n",
    "    print(i)\n",
    "    with open('/Users/constantin/Documents/University/Master-Thesis/Sustainable-API/bash/trace/express/departments/traceGETExpressDepartments' + str(i) + '.txt', 'r') as file:\n",
    "        file_contents = file.read()\n",
    "        payload_match = re.search(r'<= Recv data, (\\d+) bytes', file_contents)\n",
    "        if payload_match:\n",
    "            payload_size = int(payload_match.group(1))\n",
    "            print(f\"Payload size: {payload_size} bytes\")\n",
    "        else:\n",
    "            print(\"Payload size not found in the trace file. Please check the file contents.\")"
   ]
  },
  {
   "cell_type": "code",
   "execution_count": null,
   "id": "a77aa61f",
   "metadata": {},
   "outputs": [],
   "source": []
  }
 ],
 "metadata": {
  "kernelspec": {
   "display_name": "Python 3 (ipykernel)",
   "language": "python",
   "name": "python3"
  },
  "language_info": {
   "codemirror_mode": {
    "name": "ipython",
    "version": 3
   },
   "file_extension": ".py",
   "mimetype": "text/x-python",
   "name": "python",
   "nbconvert_exporter": "python",
   "pygments_lexer": "ipython3",
   "version": "3.10.9"
  }
 },
 "nbformat": 4,
 "nbformat_minor": 5
}
